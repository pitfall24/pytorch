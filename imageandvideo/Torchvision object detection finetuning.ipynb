{
 "cells": [
  {
   "cell_type": "markdown",
   "metadata": {},
   "source": [
    "Writing a custom dataset for PennFudan"
   ]
  },
  {
   "cell_type": "code",
   "execution_count": 56,
   "metadata": {},
   "outputs": [],
   "source": [
    "import os\n",
    "import numpy as np\n",
    "import torch\n",
    "from PIL import Image\n",
    "\n",
    "class PennFudanDataset(torch.utils.data.Dataset):\n",
    "    def __init__(self, root, transforms):\n",
    "        self.root = root\n",
    "        self.transforms = transforms\n",
    "        \n",
    "        self.imgs = list(sorted(os.listdir(os.path.join(root, 'PNGImages'))))\n",
    "        self.masks = list(sorted(os.listdir(os.path.join(root, 'PedMasks'))))\n",
    "        \n",
    "    def __getitem__(self, idx):\n",
    "        img_path = os.path.join(self.root, 'PNGImages', self.imgs[idx])\n",
    "        mask_path = os.path.join(self.root, 'PedMasks', self.masks[idx])\n",
    "        img = Image.open(img_path).convert('RGB')\n",
    "        \n",
    "        mask = Image.open(mask_path)\n",
    "        mask = np.array(mask)\n",
    "        \n",
    "        obj_ids = np.unique(mask)\n",
    "        obj_ids = obj_ids[1:]\n",
    "        \n",
    "        masks = mask == obj_ids[:, None, None]\n",
    "        \n",
    "        num_objs = len(obj_ids)\n",
    "        boxes = []\n",
    "        for i in range(num_objs):\n",
    "            pos = np.where(masks[i])\n",
    "            \n",
    "            xmin = np.min(pos[1])\n",
    "            xmax = np.max(pos[1])\n",
    "            ymin = np.min(pos[0])\n",
    "            ymax = np.max(pos[0])\n",
    "            \n",
    "            boxes.append([xmin, ymin, xmax, ymax])\n",
    "            \n",
    "        boxes = torch.as_tensor(boxes, dtype=torch.float32)\n",
    "        \n",
    "        labels = torch.ones((num_objs, ), dtype=torch.int64)\n",
    "        masks = torch.as_tensor(masks, dtype=torch.uint8)\n",
    "        \n",
    "        image_id = torch.tensor([idx], dtype=torch.int64)\n",
    "        area = (boxes[:, 3] - boxes[:, 1]) * (boxes[:, 2] - boxes[:, 0])\n",
    "        \n",
    "        iscrowd = torch.zeros((num_objs, ), dtype=torch.int64)\n",
    "        \n",
    "        target = {}\n",
    "        target['boxes'] = boxes\n",
    "        target['labels'] = labels\n",
    "        target['masks'] = masks\n",
    "        target['image_id'] = image_id\n",
    "        target['area'] = area\n",
    "        target['iscrowd'] = iscrowd\n",
    "        \n",
    "        if self.transforms is not None:\n",
    "            img, target = self.transforms(img, target)\n",
    "            \n",
    "        return img, target\n",
    "    \n",
    "    def __len__(self):\n",
    "        return len(self.imgs)"
   ]
  },
  {
   "cell_type": "markdown",
   "metadata": {},
   "source": [
    "Finetuning from a pretrained model"
   ]
  },
  {
   "cell_type": "code",
   "execution_count": 57,
   "metadata": {},
   "outputs": [],
   "source": [
    "import torchvision\n",
    "from torchvision.models.detection.faster_rcnn import FastRCNNPredictor\n",
    "\n",
    "model = torchvision.models.detection.fasterrcnn_resnet50_fpn(pretranied=True)\n",
    "\n",
    "num_classes = 2\n",
    "in_features = model.roi_heads.box_predictor.cls_score.in_features\n",
    "model.roi_heads.box_predictor = FastRCNNPredictor(in_features, num_classes)"
   ]
  },
  {
   "cell_type": "markdown",
   "metadata": {},
   "source": [
    "Modifying the model to add a different backbone"
   ]
  },
  {
   "cell_type": "code",
   "execution_count": 58,
   "metadata": {},
   "outputs": [
    {
     "name": "stderr",
     "output_type": "stream",
     "text": [
      "/Users/pscovel/miniconda3/lib/python3.9/site-packages/torchvision/models/_utils.py:208: UserWarning: The parameter 'pretrained' is deprecated since 0.13 and will be removed in 0.15, please use 'weights' instead.\n",
      "  warnings.warn(\n",
      "/Users/pscovel/miniconda3/lib/python3.9/site-packages/torchvision/models/_utils.py:223: UserWarning: Arguments other than a weight enum or `None` for 'weights' are deprecated since 0.13 and will be removed in 0.15. The current behavior is equivalent to passing `weights=MobileNet_V2_Weights.IMAGENET1K_V1`. You can also use `weights=MobileNet_V2_Weights.DEFAULT` to get the most up-to-date weights.\n",
      "  warnings.warn(msg)\n"
     ]
    }
   ],
   "source": [
    "from torchvision.models.detection import FasterRCNN\n",
    "from torchvision.models.detection.rpn import AnchorGenerator\n",
    "\n",
    "backbone = torchvision.models.mobilenet_v2(pretrained=True).features\n",
    "backbone.out_channels = 1280\n",
    "\n",
    "anchor_generator = AnchorGenerator(sizes=((32, 64, 128, 256, 512), ), \n",
    "                                   aspect_ratios=((0.5, 1.0, 2.0), ))\n",
    "\n",
    "roi_pooler = torchvision.ops.MultiScaleRoIAlign(featmap_names=['0'], \n",
    "                                              output_size=7, \n",
    "                                              sampling_ratio=2)\n",
    "\n",
    "model = FasterRCNN(backbone, \n",
    "                   num_classes=2, \n",
    "                   rpn_anchor_generator=anchor_generator, \n",
    "                   box_roi_pool=roi_pooler)"
   ]
  },
  {
   "cell_type": "markdown",
   "metadata": {},
   "source": [
    "An Instance segmentation model for PennFudan Dataset"
   ]
  },
  {
   "cell_type": "code",
   "execution_count": 59,
   "metadata": {},
   "outputs": [],
   "source": [
    "import torchvision\n",
    "from torchvision.models.detection.faster_rcnn import FastRCNNPredictor\n",
    "from torchvision.models.detection.mask_rcnn import MaskRCNNPredictor\n",
    "\n",
    "def get_model_instance_segmentation(num_classes):\n",
    "    model = torchvision.models.detection.maskrcnn_resnet50_fpn(pretrained=True)\n",
    "    \n",
    "    in_features = model.roi_heads.box_predictor.cls_score.in_features\n",
    "    model.roi_heads.box_predictor = FastRCNNPredictor(in_features, num_classes)\n",
    "    \n",
    "    in_features_mask = model.roi_heads.mask_predictor.conv5_mask.in_channels\n",
    "    hidden_layer = 256\n",
    "    \n",
    "    model.roi_heads.mask_predictr = MaskRCNNPredictor(in_features_mask, \n",
    "                                                      hidden_layer, \n",
    "                                                      num_classes)\n",
    "    \n",
    "    return model"
   ]
  },
  {
   "cell_type": "markdown",
   "metadata": {},
   "source": [
    "Putting everything together"
   ]
  },
  {
   "cell_type": "code",
   "execution_count": 60,
   "metadata": {},
   "outputs": [],
   "source": [
    "import transforms as T\n",
    "import utils\n",
    "\n",
    "def get_transform(train):\n",
    "    transforms = []\n",
    "    transforms.append(T.ToTensor())\n",
    "    if train:\n",
    "        transforms.append(T.RandomHorizontalFlip(0.5))\n",
    "        \n",
    "    return T.Compose(transforms)"
   ]
  },
  {
   "cell_type": "markdown",
   "metadata": {},
   "source": [
    "Testing forward() method"
   ]
  },
  {
   "cell_type": "code",
   "execution_count": 61,
   "metadata": {},
   "outputs": [
    {
     "name": "stderr",
     "output_type": "stream",
     "text": [
      "/Users/pscovel/miniconda3/lib/python3.9/site-packages/torchvision/models/_utils.py:223: UserWarning: Arguments other than a weight enum or `None` for 'weights' are deprecated since 0.13 and will be removed in 0.15. The current behavior is equivalent to passing `weights=FasterRCNN_ResNet50_FPN_Weights.COCO_V1`. You can also use `weights=FasterRCNN_ResNet50_FPN_Weights.DEFAULT` to get the most up-to-date weights.\n",
      "  warnings.warn(msg)\n"
     ]
    }
   ],
   "source": [
    "model = torchvision.models.detection.fasterrcnn_resnet50_fpn(pretrained=True)\n",
    "dataset = PennFudanDataset('PennFudanPed', get_transform(train=True))\n",
    "data_loader = torch.utils.data.DataLoader(dataset, batch_size=2, shuffle=True, num_workers=0, collate_fn=utils.collate_fn)\n",
    "\n",
    "images, targets = next(iter(data_loader))\n",
    "images = list(image for image in images)\n",
    "targets = [{k: v.long() for k, v in t.items()} for t in targets]\n",
    "output = model(images, targets)\n",
    "\n",
    "model.eval()\n",
    "x = [torch.rand(3, 300, 400), torch.rand(3, 500, 400)]\n",
    "predictions = model(x)  "
   ]
  },
  {
   "cell_type": "code",
   "execution_count": 62,
   "metadata": {},
   "outputs": [],
   "source": [
    "from engine import train_one_epoch, evaluate\n",
    "import utils\n",
    "\n",
    "def main():\n",
    "    device = torch.device('cuda') if torch.cuda.is_available() else torch.device('cpu')\n",
    "    \n",
    "    num_classes = 2\n",
    "    \n",
    "    dataset = PennFudanDataset('PennFudanPed', get_transform(train=True))\n",
    "    dataset_test = PennFudanDataset('PennFudanPed', get_transform(train=False))\n",
    "    \n",
    "    indices = torch.randperm(len(dataset)).tolist()\n",
    "    dataset =torch.utils.data.Subset(dataset, indices[:-50])\n",
    "    dataset_test = torch.utils.data.Subset(dataset, indices[-50:])\n",
    "    \n",
    "    data_loader = torch.utils.data.DataLoader(dataset, batch_size=2, shuffle=True, num_workers=0, collate_fn=utils.collate_fn)\n",
    "    data_loader_test = torch.utils.data.DataLoader(dataset_test, batch_size=1, shuffle=False, num_workers=0, collate_fn=utils.collate_fn)\n",
    "    \n",
    "    model.to(device)\n",
    "    \n",
    "    params = [p for p in model.parameters() if p.requires_grad]\n",
    "    optimizer = torch.optim.SGD(params, lr=0.005, momentum=0.9, weight_decay=0.0005)\n",
    "    \n",
    "    lr_scheduler = torch.optim.lr_scheduler.StepLR(optimizer, step_size=3, gamma=0.1)\n",
    "    \n",
    "    num_epochs = 10\n",
    "    \n",
    "    for epoch in range(num_epochs):\n",
    "        train_one_epoch(model, optimizer, data_loader, device, epoch, print_freq=10)\n",
    "        \n",
    "        lr_scheduler.step()\n",
    "        evaluate(model, data_loader_test, device=device)\n",
    "        \n",
    "    print('That\\'s it!')"
   ]
  },
  {
   "cell_type": "code",
   "execution_count": 63,
   "metadata": {},
   "outputs": [
    {
     "name": "stdout",
     "output_type": "stream",
     "text": [
      "Epoch: [0]  [ 0/60]  eta: 0:28:41  lr: 0.000090  loss: 0.2344 (0.2344)  loss_classifier: 0.1380 (0.1380)  loss_box_reg: 0.0725 (0.0725)  loss_objectness: 0.0183 (0.0183)  loss_rpn_box_reg: 0.0057 (0.0057)  time: 28.6973  data: 0.0547\n",
      "Epoch: [0]  [10/60]  eta: 0:25:01  lr: 0.000936  loss: 0.2194 (0.2296)  loss_classifier: 0.1380 (0.1493)  loss_box_reg: 0.0615 (0.0534)  loss_objectness: 0.0196 (0.0217)  loss_rpn_box_reg: 0.0057 (0.0053)  time: 30.0328  data: 0.0716\n",
      "Epoch: [0]  [20/60]  eta: 0:19:41  lr: 0.001783  loss: 0.1482 (0.1767)  loss_classifier: 0.0750 (0.1047)  loss_box_reg: 0.0502 (0.0528)  loss_objectness: 0.0060 (0.0145)  loss_rpn_box_reg: 0.0034 (0.0047)  time: 29.5814  data: 0.0742\n",
      "Epoch: [0]  [30/60]  eta: 0:14:59  lr: 0.002629  loss: 0.1360 (0.1671)  loss_classifier: 0.0403 (0.0863)  loss_box_reg: 0.0597 (0.0651)  loss_objectness: 0.0019 (0.0107)  loss_rpn_box_reg: 0.0044 (0.0051)  time: 29.9585  data: 0.0798\n",
      "Epoch: [0]  [40/60]  eta: 0:09:51  lr: 0.003476  loss: 0.1363 (0.1546)  loss_classifier: 0.0373 (0.0732)  loss_box_reg: 0.0853 (0.0675)  loss_objectness: 0.0012 (0.0087)  loss_rpn_box_reg: 0.0049 (0.0052)  time: 29.6464  data: 0.0806\n",
      "Epoch: [0]  [50/60]  eta: 0:04:56  lr: 0.004323  loss: 0.0775 (0.1400)  loss_classifier: 0.0262 (0.0633)  loss_box_reg: 0.0482 (0.0641)  loss_objectness: 0.0009 (0.0076)  loss_rpn_box_reg: 0.0031 (0.0050)  time: 29.2387  data: 0.0773\n",
      "Epoch: [0]  [59/60]  eta: 0:00:29  lr: 0.005000  loss: 0.0723 (0.1428)  loss_classifier: 0.0217 (0.0616)  loss_box_reg: 0.0482 (0.0690)  loss_objectness: 0.0010 (0.0072)  loss_rpn_box_reg: 0.0030 (0.0049)  time: 28.8497  data: 0.0801\n",
      "Epoch: [0] Total time: 0:29:25 (29.4320 s / it)\n",
      "creating index...\n",
      "index created!\n"
     ]
    },
    {
     "ename": "TypeError",
     "evalue": "'numpy.float64' object cannot be interpreted as an integer",
     "output_type": "error",
     "traceback": [
      "\u001b[0;31m---------------------------------------------------------------------------\u001b[0m",
      "\u001b[0;31mTypeError\u001b[0m                                 Traceback (most recent call last)",
      "\u001b[1;32m/Users/pscovel/Documents/python/local/pytorch/imageandvideo/Torchvision object detection finetuning.ipynb Cell 14\u001b[0m in \u001b[0;36m<cell line: 1>\u001b[0;34m()\u001b[0m\n\u001b[0;32m----> <a href='vscode-notebook-cell:/Users/pscovel/Documents/python/local/pytorch/imageandvideo/Torchvision%20object%20detection%20finetuning.ipynb#ch0000016?line=0'>1</a>\u001b[0m main()\n",
      "\u001b[1;32m/Users/pscovel/Documents/python/local/pytorch/imageandvideo/Torchvision object detection finetuning.ipynb Cell 14\u001b[0m in \u001b[0;36mmain\u001b[0;34m()\u001b[0m\n\u001b[1;32m     <a href='vscode-notebook-cell:/Users/pscovel/Documents/python/local/pytorch/imageandvideo/Torchvision%20object%20detection%20finetuning.ipynb#ch0000016?line=28'>29</a>\u001b[0m     train_one_epoch(model, optimizer, data_loader, device, epoch, print_freq\u001b[39m=\u001b[39m\u001b[39m10\u001b[39m)\n\u001b[1;32m     <a href='vscode-notebook-cell:/Users/pscovel/Documents/python/local/pytorch/imageandvideo/Torchvision%20object%20detection%20finetuning.ipynb#ch0000016?line=30'>31</a>\u001b[0m     lr_scheduler\u001b[39m.\u001b[39mstep()\n\u001b[0;32m---> <a href='vscode-notebook-cell:/Users/pscovel/Documents/python/local/pytorch/imageandvideo/Torchvision%20object%20detection%20finetuning.ipynb#ch0000016?line=31'>32</a>\u001b[0m     evaluate(model, data_loader_test, device\u001b[39m=\u001b[39;49mdevice)\n\u001b[1;32m     <a href='vscode-notebook-cell:/Users/pscovel/Documents/python/local/pytorch/imageandvideo/Torchvision%20object%20detection%20finetuning.ipynb#ch0000016?line=33'>34</a>\u001b[0m \u001b[39mprint\u001b[39m(\u001b[39m'\u001b[39m\u001b[39mThat\u001b[39m\u001b[39m\\'\u001b[39;00m\u001b[39ms it!\u001b[39m\u001b[39m'\u001b[39m)\n",
      "File \u001b[0;32m~/miniconda3/lib/python3.9/site-packages/torch/autograd/grad_mode.py:27\u001b[0m, in \u001b[0;36m_DecoratorContextManager.__call__.<locals>.decorate_context\u001b[0;34m(*args, **kwargs)\u001b[0m\n\u001b[1;32m     24\u001b[0m \u001b[39m@functools\u001b[39m\u001b[39m.\u001b[39mwraps(func)\n\u001b[1;32m     25\u001b[0m \u001b[39mdef\u001b[39;00m \u001b[39mdecorate_context\u001b[39m(\u001b[39m*\u001b[39margs, \u001b[39m*\u001b[39m\u001b[39m*\u001b[39mkwargs):\n\u001b[1;32m     26\u001b[0m     \u001b[39mwith\u001b[39;00m \u001b[39mself\u001b[39m\u001b[39m.\u001b[39mclone():\n\u001b[0;32m---> 27\u001b[0m         \u001b[39mreturn\u001b[39;00m func(\u001b[39m*\u001b[39;49margs, \u001b[39m*\u001b[39;49m\u001b[39m*\u001b[39;49mkwargs)\n",
      "File \u001b[0;32m~/Documents/python/local/pytorch/imageandvideo/engine.py:82\u001b[0m, in \u001b[0;36mevaluate\u001b[0;34m(model, data_loader, device)\u001b[0m\n\u001b[1;32m     80\u001b[0m coco \u001b[39m=\u001b[39m get_coco_api_from_dataset(data_loader\u001b[39m.\u001b[39mdataset)\n\u001b[1;32m     81\u001b[0m iou_types \u001b[39m=\u001b[39m _get_iou_types(model)\n\u001b[0;32m---> 82\u001b[0m coco_evaluator \u001b[39m=\u001b[39m CocoEvaluator(coco, iou_types)\n\u001b[1;32m     84\u001b[0m \u001b[39mfor\u001b[39;00m images, targets \u001b[39min\u001b[39;00m metric_logger\u001b[39m.\u001b[39mlog_every(data_loader, \u001b[39m100\u001b[39m, header):\n\u001b[1;32m     85\u001b[0m     images \u001b[39m=\u001b[39m \u001b[39mlist\u001b[39m(img\u001b[39m.\u001b[39mto(device) \u001b[39mfor\u001b[39;00m img \u001b[39min\u001b[39;00m images)\n",
      "File \u001b[0;32m~/Documents/python/local/pytorch/imageandvideo/coco_eval.py:28\u001b[0m, in \u001b[0;36mCocoEvaluator.__init__\u001b[0;34m(self, coco_gt, iou_types)\u001b[0m\n\u001b[1;32m     26\u001b[0m \u001b[39mself\u001b[39m\u001b[39m.\u001b[39mcoco_eval \u001b[39m=\u001b[39m {}\n\u001b[1;32m     27\u001b[0m \u001b[39mfor\u001b[39;00m iou_type \u001b[39min\u001b[39;00m iou_types:\n\u001b[0;32m---> 28\u001b[0m     \u001b[39mself\u001b[39m\u001b[39m.\u001b[39mcoco_eval[iou_type] \u001b[39m=\u001b[39m COCOeval(coco_gt, iouType\u001b[39m=\u001b[39;49miou_type)\n\u001b[1;32m     30\u001b[0m \u001b[39mself\u001b[39m\u001b[39m.\u001b[39mimg_ids \u001b[39m=\u001b[39m []\n\u001b[1;32m     31\u001b[0m \u001b[39mself\u001b[39m\u001b[39m.\u001b[39meval_imgs \u001b[39m=\u001b[39m {k: [] \u001b[39mfor\u001b[39;00m k \u001b[39min\u001b[39;00m iou_types}\n",
      "File \u001b[0;32m~/miniconda3/lib/python3.9/site-packages/pycocotools/cocoeval.py:76\u001b[0m, in \u001b[0;36mCOCOeval.__init__\u001b[0;34m(self, cocoGt, cocoDt, iouType)\u001b[0m\n\u001b[1;32m     74\u001b[0m \u001b[39mself\u001b[39m\u001b[39m.\u001b[39m_gts \u001b[39m=\u001b[39m defaultdict(\u001b[39mlist\u001b[39m)       \u001b[39m# gt for evaluation\u001b[39;00m\n\u001b[1;32m     75\u001b[0m \u001b[39mself\u001b[39m\u001b[39m.\u001b[39m_dts \u001b[39m=\u001b[39m defaultdict(\u001b[39mlist\u001b[39m)       \u001b[39m# dt for evaluation\u001b[39;00m\n\u001b[0;32m---> 76\u001b[0m \u001b[39mself\u001b[39m\u001b[39m.\u001b[39mparams \u001b[39m=\u001b[39m Params(iouType\u001b[39m=\u001b[39;49miouType) \u001b[39m# parameters\u001b[39;00m\n\u001b[1;32m     77\u001b[0m \u001b[39mself\u001b[39m\u001b[39m.\u001b[39m_paramsEval \u001b[39m=\u001b[39m {}               \u001b[39m# parameters for evaluation\u001b[39;00m\n\u001b[1;32m     78\u001b[0m \u001b[39mself\u001b[39m\u001b[39m.\u001b[39mstats \u001b[39m=\u001b[39m []                     \u001b[39m# result summarization\u001b[39;00m\n",
      "File \u001b[0;32m~/miniconda3/lib/python3.9/site-packages/pycocotools/cocoeval.py:527\u001b[0m, in \u001b[0;36mParams.__init__\u001b[0;34m(self, iouType)\u001b[0m\n\u001b[1;32m    525\u001b[0m \u001b[39mdef\u001b[39;00m \u001b[39m__init__\u001b[39m(\u001b[39mself\u001b[39m, iouType\u001b[39m=\u001b[39m\u001b[39m'\u001b[39m\u001b[39msegm\u001b[39m\u001b[39m'\u001b[39m):\n\u001b[1;32m    526\u001b[0m     \u001b[39mif\u001b[39;00m iouType \u001b[39m==\u001b[39m \u001b[39m'\u001b[39m\u001b[39msegm\u001b[39m\u001b[39m'\u001b[39m \u001b[39mor\u001b[39;00m iouType \u001b[39m==\u001b[39m \u001b[39m'\u001b[39m\u001b[39mbbox\u001b[39m\u001b[39m'\u001b[39m:\n\u001b[0;32m--> 527\u001b[0m         \u001b[39mself\u001b[39;49m\u001b[39m.\u001b[39;49msetDetParams()\n\u001b[1;32m    528\u001b[0m     \u001b[39melif\u001b[39;00m iouType \u001b[39m==\u001b[39m \u001b[39m'\u001b[39m\u001b[39mkeypoints\u001b[39m\u001b[39m'\u001b[39m:\n\u001b[1;32m    529\u001b[0m         \u001b[39mself\u001b[39m\u001b[39m.\u001b[39msetKpParams()\n",
      "File \u001b[0;32m~/miniconda3/lib/python3.9/site-packages/pycocotools/cocoeval.py:507\u001b[0m, in \u001b[0;36mParams.setDetParams\u001b[0;34m(self)\u001b[0m\n\u001b[1;32m    505\u001b[0m \u001b[39mself\u001b[39m\u001b[39m.\u001b[39mcatIds \u001b[39m=\u001b[39m []\n\u001b[1;32m    506\u001b[0m \u001b[39m# np.arange causes trouble.  the data point on arange is slightly larger than the true value\u001b[39;00m\n\u001b[0;32m--> 507\u001b[0m \u001b[39mself\u001b[39m\u001b[39m.\u001b[39miouThrs \u001b[39m=\u001b[39m np\u001b[39m.\u001b[39;49mlinspace(\u001b[39m.5\u001b[39;49m, \u001b[39m0.95\u001b[39;49m, np\u001b[39m.\u001b[39;49mround((\u001b[39m0.95\u001b[39;49m \u001b[39m-\u001b[39;49m \u001b[39m.5\u001b[39;49m) \u001b[39m/\u001b[39;49m \u001b[39m.05\u001b[39;49m) \u001b[39m+\u001b[39;49m \u001b[39m1\u001b[39;49m, endpoint\u001b[39m=\u001b[39;49m\u001b[39mTrue\u001b[39;49;00m)\n\u001b[1;32m    508\u001b[0m \u001b[39mself\u001b[39m\u001b[39m.\u001b[39mrecThrs \u001b[39m=\u001b[39m np\u001b[39m.\u001b[39mlinspace(\u001b[39m.0\u001b[39m, \u001b[39m1.00\u001b[39m, np\u001b[39m.\u001b[39mround((\u001b[39m1.00\u001b[39m \u001b[39m-\u001b[39m \u001b[39m.0\u001b[39m) \u001b[39m/\u001b[39m \u001b[39m.01\u001b[39m) \u001b[39m+\u001b[39m \u001b[39m1\u001b[39m, endpoint\u001b[39m=\u001b[39m\u001b[39mTrue\u001b[39;00m)\n\u001b[1;32m    509\u001b[0m \u001b[39mself\u001b[39m\u001b[39m.\u001b[39mmaxDets \u001b[39m=\u001b[39m [\u001b[39m1\u001b[39m, \u001b[39m10\u001b[39m, \u001b[39m100\u001b[39m]\n",
      "File \u001b[0;32m<__array_function__ internals>:180\u001b[0m, in \u001b[0;36mlinspace\u001b[0;34m(*args, **kwargs)\u001b[0m\n",
      "File \u001b[0;32m~/miniconda3/lib/python3.9/site-packages/numpy/core/function_base.py:120\u001b[0m, in \u001b[0;36mlinspace\u001b[0;34m(start, stop, num, endpoint, retstep, dtype, axis)\u001b[0m\n\u001b[1;32m     23\u001b[0m \u001b[39m@array_function_dispatch\u001b[39m(_linspace_dispatcher)\n\u001b[1;32m     24\u001b[0m \u001b[39mdef\u001b[39;00m \u001b[39mlinspace\u001b[39m(start, stop, num\u001b[39m=\u001b[39m\u001b[39m50\u001b[39m, endpoint\u001b[39m=\u001b[39m\u001b[39mTrue\u001b[39;00m, retstep\u001b[39m=\u001b[39m\u001b[39mFalse\u001b[39;00m, dtype\u001b[39m=\u001b[39m\u001b[39mNone\u001b[39;00m,\n\u001b[1;32m     25\u001b[0m              axis\u001b[39m=\u001b[39m\u001b[39m0\u001b[39m):\n\u001b[1;32m     26\u001b[0m     \u001b[39m\"\"\"\u001b[39;00m\n\u001b[1;32m     27\u001b[0m \u001b[39m    Return evenly spaced numbers over a specified interval.\u001b[39;00m\n\u001b[1;32m     28\u001b[0m \n\u001b[0;32m   (...)\u001b[0m\n\u001b[1;32m    118\u001b[0m \n\u001b[1;32m    119\u001b[0m \u001b[39m    \"\"\"\u001b[39;00m\n\u001b[0;32m--> 120\u001b[0m     num \u001b[39m=\u001b[39m operator\u001b[39m.\u001b[39;49mindex(num)\n\u001b[1;32m    121\u001b[0m     \u001b[39mif\u001b[39;00m num \u001b[39m<\u001b[39m \u001b[39m0\u001b[39m:\n\u001b[1;32m    122\u001b[0m         \u001b[39mraise\u001b[39;00m \u001b[39mValueError\u001b[39;00m(\u001b[39m\"\u001b[39m\u001b[39mNumber of samples, \u001b[39m\u001b[39m%s\u001b[39;00m\u001b[39m, must be non-negative.\u001b[39m\u001b[39m\"\u001b[39m \u001b[39m%\u001b[39m num)\n",
      "\u001b[0;31mTypeError\u001b[0m: 'numpy.float64' object cannot be interpreted as an integer"
     ]
    }
   ],
   "source": [
    "main()"
   ]
  }
 ],
 "metadata": {
  "kernelspec": {
   "display_name": "Python 3.9.12 ('base')",
   "language": "python",
   "name": "python3"
  },
  "language_info": {
   "codemirror_mode": {
    "name": "ipython",
    "version": 3
   },
   "file_extension": ".py",
   "mimetype": "text/x-python",
   "name": "python",
   "nbconvert_exporter": "python",
   "pygments_lexer": "ipython3",
   "version": "3.9.12"
  },
  "orig_nbformat": 4,
  "vscode": {
   "interpreter": {
    "hash": "4ecd4b7f8467236ee89e6968b202c0220983dcb008045e70441c4d1a4cdc7f46"
   }
  }
 },
 "nbformat": 4,
 "nbformat_minor": 2
}
